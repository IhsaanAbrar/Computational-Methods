{
 "cells": [
  {
   "cell_type": "code",
   "execution_count": 5,
   "id": "6147c8e1-5b6d-4c17-b24e-f8bc2fc61d87",
   "metadata": {},
   "outputs": [
    {
     "data": {
      "image/png": "[encoded data removed]",
      "text/latex": [
       "$\\displaystyle - 5 f{\\left(x \\right)} + \\frac{d^{2}}{d x^{2}} f{\\left(x \\right)} = 10$"
      ],
      "text/plain": [
       "           2            \n",
       "          d             \n",
       "-5⋅f(x) + ───(f(x)) = 10\n",
       "            2           \n",
       "          dx            "
      ]
     },
     "metadata": {},
     "output_type": "display_data"
    },
    {
     "data": {
      "image/png": "[encoded data removed]",
      "text/latex": [
       "$\\displaystyle f{\\left(x \\right)} = C_{1} e^{- \\sqrt{5} x} + C_{2} e^{\\sqrt{5} x} - 2$"
      ],
      "text/plain": [
       "           -√5⋅x       √5⋅x    \n",
       "f(x) = C₁⋅ℯ      + C₂⋅ℯ     - 2"
      ]
     },
     "metadata": {},
     "output_type": "display_data"
    }
   ],
   "source": [
    "import sympy as sp\n",
    "from sympy.interactive import printing\n",
    "from IPython.display import display\n",
    "\n",
    "printing.init_printing(use_latex=True)\n",
    "\n",
    "x = sp.symbols('x')\n",
    "f = sp.Function('f')(x)\n",
    "\n",
    "# Define and display the differential equation\n",
    "diffeq = sp.Eq(sp.diff(f, x, 2) - 5*f, 10)\n",
    "display(diffeq)\n",
    "\n",
    "# Solve and display the result\n",
    "solution = sp.dsolve(diffeq, f)\n",
    "display(solution)\n"
   ]
  },
  {
   "cell_type": "code",
   "execution_count": null,
   "id": "eaa5d7a1-5d97-4903-8c7b-bf9137732764",
   "metadata": {},
   "outputs": [],
   "source": []
  }
 ],
 "metadata": {
  "kernelspec": {
   "display_name": "Python 3 (ipykernel)",
   "language": "python",
   "name": "python3"
  },
  "language_info": {
   "codemirror_mode": {
    "name": "ipython",
    "version": 3
   },
   "file_extension": ".py",
   "mimetype": "text/x-python",
   "name": "python",
   "nbconvert_exporter": "python",
   "pygments_lexer": "ipython3",
   "version": "3.13.5"
  }
 },
 "nbformat": 4,
 "nbformat_minor": 5
}
